{
 "cells": [
  {
   "cell_type": "markdown",
   "source": [
    "# Mission Analysis and Orbital Mechanics Assignment - Exercise 3\n",
    "Auxilliary calculation functions can be found in the file solvers_calculators.py"
   ],
   "metadata": {
    "collapsed": false,
    "pycharm": {
     "name": "#%% md\n"
    }
   }
  },
  {
   "cell_type": "code",
   "execution_count": 3,
   "outputs": [],
   "source": [
    "import numpy as np\n",
    "from constants import *\n",
    "from scipy.integrate import solve_ivp\n",
    "from mpl_toolkits.mplot3d import axes3d\n",
    "import matplotlib.pyplot as plt"
   ],
   "metadata": {
    "collapsed": false,
    "pycharm": {
     "name": "#%%\n"
    }
   }
  },
  {
   "cell_type": "markdown",
   "source": [
    "### ISS:\n",
    "- equatorial orbit\n",
    "- 404 km above the earth\n",
    "### Chaser:\n",
    "- apogee = R_ISS\n",
    "- angular separation = delta_theta\n",
    "- catches up to ISS in N_rev orbits"
   ],
   "metadata": {
    "collapsed": false
   }
  },
  {
   "cell_type": "code",
   "source": [
    "R_ISS = R_EARTH + 404  # km\n",
    "D_THETA = np.radians(100)  # initial angular separation in radians\n",
    "\n",
    "r0 = np.array([R_ISS * np.cos(D_THETA), R_ISS * np.sin(D_THETA), 0])\n",
    "v0 = np.array([-3.762, 4.063, 4.184])\n",
    "\n",
    "X0 = np.concatenate((r0, v0))"
   ],
   "metadata": {
    "collapsed": false,
    "pycharm": {
     "name": "#%%\n"
    }
   },
   "execution_count": null,
   "outputs": []
  }
 ],
 "metadata": {
  "kernelspec": {
   "display_name": "Python 3",
   "language": "python",
   "name": "python3"
  },
  "language_info": {
   "codemirror_mode": {
    "name": "ipython",
    "version": 2
   },
   "file_extension": ".py",
   "mimetype": "text/x-python",
   "name": "python",
   "nbconvert_exporter": "python",
   "pygments_lexer": "ipython2",
   "version": "2.7.6"
  }
 },
 "nbformat": 4,
 "nbformat_minor": 0
}